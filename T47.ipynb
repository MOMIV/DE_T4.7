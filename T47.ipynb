{
 "cells": [
  {
   "cell_type": "code",
   "execution_count": 1,
   "id": "4f3c9a47",
   "metadata": {},
   "outputs": [],
   "source": [
    "import numpy as np\n",
    "import pandas as pd"
   ]
  },
  {
   "cell_type": "code",
   "execution_count": 2,
   "id": "95afe675",
   "metadata": {},
   "outputs": [],
   "source": [
    "import pyspark\n",
    "from pyspark.sql import SparkSession\n",
    "from pyspark.sql import *\n",
    "from pyspark.sql import functions as F\n",
    "from pyspark.sql.functions import col, asc, desc, count,round, mean, min, max, sum, datediff, to_date\n",
    "from pyspark.sql.functions import to_utc_timestamp, unix_timestamp, lit, datediff, col"
   ]
  },
  {
   "cell_type": "code",
   "execution_count": 3,
   "id": "20890e6f",
   "metadata": {},
   "outputs": [],
   "source": [
    "import findspark\n",
    "findspark.init()"
   ]
  },
  {
   "cell_type": "code",
   "execution_count": 4,
   "id": "d804a07b",
   "metadata": {},
   "outputs": [],
   "source": [
    "spark = SparkSession.builder \\\n",
    ".master(\"local[1]\") \\\n",
    ".appName(\"SparkFirst\") \\\n",
    ".config(\"spark.memory.offHeap.enabled\",\"true\") \\\n",
    ".config(\"spark.memory.offHeap.size\",\"15g\")\\\n",
    ".getOrCreate() "
   ]
  },
  {
   "cell_type": "code",
   "execution_count": 5,
   "id": "265df577",
   "metadata": {},
   "outputs": [
    {
     "data": {
      "text/plain": [
       "DataFrame[key: string, value: string]"
      ]
     },
     "execution_count": 5,
     "metadata": {},
     "output_type": "execute_result"
    }
   ],
   "source": [
    "spark.sql(\"set spark.sql.legacy.timeParserPolicy=LEGACY\")"
   ]
  },
  {
   "cell_type": "code",
   "execution_count": 6,
   "id": "d629918c",
   "metadata": {},
   "outputs": [
    {
     "name": "stdout",
     "output_type": "stream",
     "text": [
      "root\n",
      " |-- _c0: integer (nullable = true)\n",
      " |-- InvoiceNo: string (nullable = true)\n",
      " |-- StockCode: string (nullable = true)\n",
      " |-- Description: string (nullable = true)\n",
      " |-- Quantity: integer (nullable = true)\n",
      " |-- InvoiceDate: string (nullable = true)\n",
      " |-- UnitPrice: double (nullable = true)\n",
      " |-- CustomerID: double (nullable = true)\n",
      " |-- Country: string (nullable = true)\n",
      "\n"
     ]
    }
   ],
   "source": [
    "df = spark.read.csv(\"K:/DE_Projects/DE_T4.7/data/data.csv\", inferSchema=True, header=True)\n",
    "df.printSchema()"
   ]
  },
  {
   "cell_type": "code",
   "execution_count": 7,
   "id": "1bce4382",
   "metadata": {},
   "outputs": [
    {
     "name": "stdout",
     "output_type": "stream",
     "text": [
      "+---+---------+---------+--------------------+--------+-------------------+---------+----------+--------------+\n",
      "|_c0|InvoiceNo|StockCode|         Description|Quantity|        InvoiceDate|UnitPrice|CustomerID|       Country|\n",
      "+---+---------+---------+--------------------+--------+-------------------+---------+----------+--------------+\n",
      "|  0|   536365|   85123A|WHITE HANGING HEA...|       6|2010-12-01 08:26:00|     2.55|   17850.0|United Kingdom|\n",
      "|  1|   536365|    71053| WHITE METAL LANTERN|       6|2010-12-01 08:26:00|     3.39|   17850.0|United Kingdom|\n",
      "|  2|   536365|   84406B|CREAM CUPID HEART...|       8|2010-12-01 08:26:00|     2.75|   17850.0|United Kingdom|\n",
      "|  3|   536365|   84029G|KNITTED UNION FLA...|       6|2010-12-01 08:26:00|     3.39|   17850.0|United Kingdom|\n",
      "|  4|   536365|   84029E|RED WOOLLY HOTTIE...|       6|2010-12-01 08:26:00|     3.39|   17850.0|United Kingdom|\n",
      "|  5|   536365|    22752|SET 7 BABUSHKA NE...|       2|2010-12-01 08:26:00|     7.65|   17850.0|United Kingdom|\n",
      "|  6|   536365|    21730|GLASS STAR FROSTE...|       6|2010-12-01 08:26:00|     4.25|   17850.0|United Kingdom|\n",
      "|  7|   536366|    22633|HAND WARMER UNION...|       6|2010-12-01 08:28:00|     1.85|   17850.0|United Kingdom|\n",
      "|  8|   536366|    22632|HAND WARMER RED P...|       6|2010-12-01 08:28:00|     1.85|   17850.0|United Kingdom|\n",
      "|  9|   536367|    84879|ASSORTED COLOUR B...|      32|2010-12-01 08:34:00|     1.69|   13047.0|United Kingdom|\n",
      "| 10|   536367|    22745|POPPY'S PLAYHOUSE...|       6|2010-12-01 08:34:00|      2.1|   13047.0|United Kingdom|\n",
      "| 11|   536367|    22748|POPPY'S PLAYHOUSE...|       6|2010-12-01 08:34:00|      2.1|   13047.0|United Kingdom|\n",
      "| 12|   536367|    22749|FELTCRAFT PRINCES...|       8|2010-12-01 08:34:00|     3.75|   13047.0|United Kingdom|\n",
      "| 13|   536367|    22310|IVORY KNITTED MUG...|       6|2010-12-01 08:34:00|     1.65|   13047.0|United Kingdom|\n",
      "| 14|   536367|    84969|BOX OF 6 ASSORTED...|       6|2010-12-01 08:34:00|     4.25|   13047.0|United Kingdom|\n",
      "| 15|   536367|    22623|BOX OF VINTAGE JI...|       3|2010-12-01 08:34:00|     4.95|   13047.0|United Kingdom|\n",
      "| 16|   536367|    22622|BOX OF VINTAGE AL...|       2|2010-12-01 08:34:00|     9.95|   13047.0|United Kingdom|\n",
      "| 17|   536367|    21754|HOME BUILDING BLO...|       3|2010-12-01 08:34:00|     5.95|   13047.0|United Kingdom|\n",
      "| 18|   536367|    21755|LOVE BUILDING BLO...|       3|2010-12-01 08:34:00|     5.95|   13047.0|United Kingdom|\n",
      "| 19|   536367|    21777|RECIPE BOX WITH M...|       4|2010-12-01 08:34:00|     7.95|   13047.0|United Kingdom|\n",
      "+---+---------+---------+--------------------+--------+-------------------+---------+----------+--------------+\n",
      "only showing top 20 rows\n",
      "\n"
     ]
    }
   ],
   "source": [
    "df.show()"
   ]
  },
  {
   "cell_type": "code",
   "execution_count": 8,
   "id": "86fab8a9",
   "metadata": {},
   "outputs": [
    {
     "data": {
      "text/plain": [
       "541909"
      ]
     },
     "execution_count": 8,
     "metadata": {},
     "output_type": "execute_result"
    }
   ],
   "source": [
    "#Количество строк в файле\n",
    "df.count()"
   ]
  },
  {
   "cell_type": "code",
   "execution_count": 9,
   "id": "0f20e60f",
   "metadata": {},
   "outputs": [
    {
     "data": {
      "text/plain": [
       "_c0            541909\n",
       "InvoiceNo       25900\n",
       "StockCode        4070\n",
       "Description      4223\n",
       "Quantity          722\n",
       "InvoiceDate     23260\n",
       "UnitPrice        1630\n",
       "CustomerID       4372\n",
       "Country            38\n",
       "dtype: int64"
      ]
     },
     "execution_count": 9,
     "metadata": {},
     "output_type": "execute_result"
    }
   ],
   "source": [
    "#Количество уникальных клиентов\n",
    "pandas_df = df.toPandas()\n",
    "pandas_df.nunique ()"
   ]
  },
  {
   "cell_type": "code",
   "execution_count": 10,
   "id": "ba51e093",
   "metadata": {},
   "outputs": [
    {
     "name": "stdout",
     "output_type": "stream",
     "text": [
      "+---------------+------+\n",
      "|        Country| count|\n",
      "+---------------+------+\n",
      "| United Kingdom|495478|\n",
      "|        Germany|  9495|\n",
      "|         France|  8557|\n",
      "|           EIRE|  8196|\n",
      "|          Spain|  2533|\n",
      "|    Netherlands|  2371|\n",
      "|        Belgium|  2069|\n",
      "|    Switzerland|  2002|\n",
      "|       Portugal|  1519|\n",
      "|      Australia|  1259|\n",
      "|         Norway|  1086|\n",
      "|          Italy|   803|\n",
      "|Channel Islands|   758|\n",
      "|        Finland|   695|\n",
      "|         Cyprus|   622|\n",
      "|         Sweden|   462|\n",
      "|    Unspecified|   446|\n",
      "|        Austria|   401|\n",
      "|        Denmark|   389|\n",
      "|          Japan|   358|\n",
      "+---------------+------+\n",
      "only showing top 20 rows\n",
      "\n"
     ]
    }
   ],
   "source": [
    "#В какой стране совершается большинство покупок\n",
    "df1 = df.groupBy('Country').count().orderBy('count',ascending=False).show()"
   ]
  },
  {
   "cell_type": "code",
   "execution_count": 11,
   "id": "2e928500",
   "metadata": {},
   "outputs": [
    {
     "name": "stdout",
     "output_type": "stream",
     "text": [
      "+-------------------+\n",
      "|   max(InvoiceDate)|\n",
      "+-------------------+\n",
      "|2011-12-09 12:50:00|\n",
      "+-------------------+\n",
      "\n"
     ]
    }
   ],
   "source": [
    "#Даты самой ранней и самой последней покупки на платформе\n",
    "df2=df.agg({'InvoiceDate':'max'}).show()"
   ]
  },
  {
   "cell_type": "code",
   "execution_count": 12,
   "id": "03238af8",
   "metadata": {},
   "outputs": [
    {
     "name": "stdout",
     "output_type": "stream",
     "text": [
      "+-------------------+\n",
      "|   min(InvoiceDate)|\n",
      "+-------------------+\n",
      "|2010-12-01 08:26:00|\n",
      "+-------------------+\n",
      "\n"
     ]
    }
   ],
   "source": [
    "df3=df.agg({'InvoiceDate':'min'}).show()"
   ]
  },
  {
   "cell_type": "code",
   "execution_count": 13,
   "id": "2c85bc58",
   "metadata": {},
   "outputs": [],
   "source": [
    "#RFM-анализ клиентов платформы\n"
   ]
  },
  {
   "cell_type": "code",
   "execution_count": 14,
   "id": "b60a418a",
   "metadata": {},
   "outputs": [],
   "source": [
    "def my_count(df_in):\n",
    "    df_in.agg( *[ count(c).alias(c) for c in df_in.columns ] ).show()"
   ]
  },
  {
   "cell_type": "code",
   "execution_count": 15,
   "id": "c44edf0e",
   "metadata": {},
   "outputs": [
    {
     "name": "stdout",
     "output_type": "stream",
     "text": [
      "+------+---------+---------+-----------+--------+-----------+---------+----------+-------+\n",
      "|   _c0|InvoiceNo|StockCode|Description|Quantity|InvoiceDate|UnitPrice|CustomerID|Country|\n",
      "+------+---------+---------+-----------+--------+-----------+---------+----------+-------+\n",
      "|541909|   541909|   541909|     540455|  541909|     541909|   541909|    406829| 541909|\n",
      "+------+---------+---------+-----------+--------+-----------+---------+----------+-------+\n",
      "\n"
     ]
    }
   ],
   "source": [
    "my_count(df)"
   ]
  },
  {
   "cell_type": "code",
   "execution_count": 16,
   "id": "90d6778b",
   "metadata": {},
   "outputs": [
    {
     "name": "stdout",
     "output_type": "stream",
     "text": [
      "+------+---------+---------+-----------+--------+-----------+---------+----------+-------+\n",
      "|   _c0|InvoiceNo|StockCode|Description|Quantity|InvoiceDate|UnitPrice|CustomerID|Country|\n",
      "+------+---------+---------+-----------+--------+-----------+---------+----------+-------+\n",
      "|406829|   406829|   406829|     406829|  406829|     406829|   406829|    406829| 406829|\n",
      "+------+---------+---------+-----------+--------+-----------+---------+----------+-------+\n",
      "\n"
     ]
    }
   ],
   "source": [
    "df_n = df.dropna(how='any')\n",
    "my_count(df_n)"
   ]
  },
  {
   "cell_type": "code",
   "execution_count": 17,
   "id": "8411d89e",
   "metadata": {},
   "outputs": [
    {
     "data": {
      "text/plain": [
       "[('InvoiceDate', 'string')]"
      ]
     },
     "execution_count": 17,
     "metadata": {},
     "output_type": "execute_result"
    }
   ],
   "source": [
    "df_n.select(['InvoiceDate']).dtypes"
   ]
  },
  {
   "cell_type": "code",
   "execution_count": 18,
   "id": "cf75c8bd",
   "metadata": {},
   "outputs": [],
   "source": [
    "df_n = df_n.withColumn('TotalPrice', round( df.Quantity * df.UnitPrice, 2 ) )"
   ]
  },
  {
   "cell_type": "code",
   "execution_count": 19,
   "id": "84b3da69",
   "metadata": {},
   "outputs": [],
   "source": [
    "date_max = df_n.select(max('InvoiceDate')).toPandas()\n",
    "current = to_utc_timestamp( unix_timestamp(lit(str(date_max.iloc[0][0])), \\\n",
    "                              'yy-MM-dd HH:mm').cast('timestamp'), 'UTC' )\n",
    "\n",
    "df_n = df_n.withColumn('Duration', datediff(lit(current), 'InvoiceDate'))"
   ]
  },
  {
   "cell_type": "code",
   "execution_count": 20,
   "id": "a0851cdf",
   "metadata": {},
   "outputs": [],
   "source": [
    "recency = df_n.groupBy('CustomerID').agg(min('Duration').alias('Recency'))\n",
    "frequency = df_n.groupBy('CustomerID', 'InvoiceNo').count()\\\n",
    "                        .groupBy('CustomerID')\\\n",
    "                        .agg(count(\"*\").alias(\"Frequency\"))\n",
    "monetary = df_n.groupBy('CustomerID').agg(round(sum('TotalPrice'), 2).alias('Monetary'))\n",
    "rfm = recency.join(frequency,'CustomerID', how = 'inner')\\\n",
    "             .join(monetary,'CustomerID', how = 'inner')"
   ]
  },
  {
   "cell_type": "code",
   "execution_count": 21,
   "id": "025c8512",
   "metadata": {},
   "outputs": [
    {
     "name": "stdout",
     "output_type": "stream",
     "text": [
      "+----------+-------+---------+--------+\n",
      "|CustomerID|Recency|Frequency|Monetary|\n",
      "+----------+-------+---------+--------+\n",
      "|   13094.0|     21|       16| 1708.86|\n",
      "|   17884.0|      3|        4|  717.45|\n",
      "|   16561.0|      5|        2|  511.12|\n",
      "|   13973.0|    287|        1|   264.7|\n",
      "|   14285.0|     21|        4| 1910.01|\n",
      "+----------+-------+---------+--------+\n",
      "only showing top 5 rows\n",
      "\n"
     ]
    }
   ],
   "source": [
    "rfm.show(5)"
   ]
  },
  {
   "cell_type": "code",
   "execution_count": 22,
   "id": "50d047a4",
   "metadata": {},
   "outputs": [
    {
     "name": "stdout",
     "output_type": "stream",
     "text": [
      "+-------+------------------+-----------------+-----------------+\n",
      "|summary|           Recency|        Frequency|         Monetary|\n",
      "+-------+------------------+-----------------+-----------------+\n",
      "|  count|              4372|             4372|             4372|\n",
      "|   mean| 91.58119853613907| 5.07548032936871|1898.459700365968|\n",
      "| stddev|100.77213931384843|9.338754163574727|8219.345141139713|\n",
      "|    min|                 0|                1|         -4287.63|\n",
      "|    max|               373|              248|        279489.02|\n",
      "+-------+------------------+-----------------+-----------------+\n",
      "\n"
     ]
    }
   ],
   "source": [
    "cols = ['Recency','Frequency','Monetary']\n",
    "rfm.select(cols).describe().show()"
   ]
  },
  {
   "cell_type": "code",
   "execution_count": 23,
   "id": "da72be19",
   "metadata": {},
   "outputs": [],
   "source": [
    "def describe_pd(df_in, columns, deciles=False):\n",
    "    \n",
    "    if deciles:\n",
    "        percentiles = np.array(range(0, 110, 10))\n",
    "    else:\n",
    "        percentiles = [25, 50, 75]\n",
    "\n",
    "    percs = np.transpose([np.percentile(df_in.select(x).collect(), percentiles) for x in columns])\n",
    "    percs = pd.DataFrame(percs, columns=columns)\n",
    "    percs['summary'] = [str(p) + '%' for p in percentiles]\n",
    "\n",
    "    spark_describe = df_in.describe().toPandas()\n",
    "    new_df = pd.concat([spark_describe, percs],ignore_index=True)\n",
    "    new_df = new_df.round(2)\n",
    "    return new_df[['summary'] + columns]"
   ]
  },
  {
   "cell_type": "code",
   "execution_count": 24,
   "id": "38d566a6",
   "metadata": {},
   "outputs": [
    {
     "data": {
      "text/html": [
       "<div>\n",
       "<style scoped>\n",
       "    .dataframe tbody tr th:only-of-type {\n",
       "        vertical-align: middle;\n",
       "    }\n",
       "\n",
       "    .dataframe tbody tr th {\n",
       "        vertical-align: top;\n",
       "    }\n",
       "\n",
       "    .dataframe thead th {\n",
       "        text-align: right;\n",
       "    }\n",
       "</style>\n",
       "<table border=\"1\" class=\"dataframe\">\n",
       "  <thead>\n",
       "    <tr style=\"text-align: right;\">\n",
       "      <th></th>\n",
       "      <th>summary</th>\n",
       "      <th>Recency</th>\n",
       "      <th>Frequency</th>\n",
       "      <th>Monetary</th>\n",
       "    </tr>\n",
       "  </thead>\n",
       "  <tbody>\n",
       "    <tr>\n",
       "      <th>0</th>\n",
       "      <td>count</td>\n",
       "      <td>4372</td>\n",
       "      <td>4372</td>\n",
       "      <td>4372</td>\n",
       "    </tr>\n",
       "    <tr>\n",
       "      <th>1</th>\n",
       "      <td>mean</td>\n",
       "      <td>91.58119853613907</td>\n",
       "      <td>5.07548032936871</td>\n",
       "      <td>1898.459700365968</td>\n",
       "    </tr>\n",
       "    <tr>\n",
       "      <th>2</th>\n",
       "      <td>stddev</td>\n",
       "      <td>100.77213931384843</td>\n",
       "      <td>9.338754163574727</td>\n",
       "      <td>8219.345141139713</td>\n",
       "    </tr>\n",
       "    <tr>\n",
       "      <th>3</th>\n",
       "      <td>min</td>\n",
       "      <td>0</td>\n",
       "      <td>1</td>\n",
       "      <td>-4287.63</td>\n",
       "    </tr>\n",
       "    <tr>\n",
       "      <th>4</th>\n",
       "      <td>max</td>\n",
       "      <td>373</td>\n",
       "      <td>248</td>\n",
       "      <td>279489.02</td>\n",
       "    </tr>\n",
       "    <tr>\n",
       "      <th>5</th>\n",
       "      <td>0%</td>\n",
       "      <td>0.0</td>\n",
       "      <td>1.0</td>\n",
       "      <td>-4287.63</td>\n",
       "    </tr>\n",
       "    <tr>\n",
       "      <th>6</th>\n",
       "      <td>10%</td>\n",
       "      <td>4.0</td>\n",
       "      <td>1.0</td>\n",
       "      <td>146.022</td>\n",
       "    </tr>\n",
       "    <tr>\n",
       "      <th>7</th>\n",
       "      <td>20%</td>\n",
       "      <td>11.0</td>\n",
       "      <td>1.0</td>\n",
       "      <td>234.392</td>\n",
       "    </tr>\n",
       "    <tr>\n",
       "      <th>8</th>\n",
       "      <td>30%</td>\n",
       "      <td>21.0</td>\n",
       "      <td>1.0</td>\n",
       "      <td>337.37</td>\n",
       "    </tr>\n",
       "    <tr>\n",
       "      <th>9</th>\n",
       "      <td>40%</td>\n",
       "      <td>31.0</td>\n",
       "      <td>2.0</td>\n",
       "      <td>465.412</td>\n",
       "    </tr>\n",
       "    <tr>\n",
       "      <th>10</th>\n",
       "      <td>50%</td>\n",
       "      <td>50.0</td>\n",
       "      <td>3.0</td>\n",
       "      <td>648.075</td>\n",
       "    </tr>\n",
       "    <tr>\n",
       "      <th>11</th>\n",
       "      <td>60%</td>\n",
       "      <td>71.0</td>\n",
       "      <td>4.0</td>\n",
       "      <td>909.134</td>\n",
       "    </tr>\n",
       "    <tr>\n",
       "      <th>12</th>\n",
       "      <td>70%</td>\n",
       "      <td>108.0</td>\n",
       "      <td>5.0</td>\n",
       "      <td>1311.979</td>\n",
       "    </tr>\n",
       "    <tr>\n",
       "      <th>13</th>\n",
       "      <td>80%</td>\n",
       "      <td>178.0</td>\n",
       "      <td>7.0</td>\n",
       "      <td>2002.092</td>\n",
       "    </tr>\n",
       "    <tr>\n",
       "      <th>14</th>\n",
       "      <td>90%</td>\n",
       "      <td>263.0</td>\n",
       "      <td>11.0</td>\n",
       "      <td>3505.6</td>\n",
       "    </tr>\n",
       "    <tr>\n",
       "      <th>15</th>\n",
       "      <td>100%</td>\n",
       "      <td>373.0</td>\n",
       "      <td>248.0</td>\n",
       "      <td>279489.02</td>\n",
       "    </tr>\n",
       "  </tbody>\n",
       "</table>\n",
       "</div>"
      ],
      "text/plain": [
       "   summary             Recency          Frequency           Monetary\n",
       "0    count                4372               4372               4372\n",
       "1     mean   91.58119853613907   5.07548032936871  1898.459700365968\n",
       "2   stddev  100.77213931384843  9.338754163574727  8219.345141139713\n",
       "3      min                   0                  1           -4287.63\n",
       "4      max                 373                248          279489.02\n",
       "5       0%                 0.0                1.0           -4287.63\n",
       "6      10%                 4.0                1.0            146.022\n",
       "7      20%                11.0                1.0            234.392\n",
       "8      30%                21.0                1.0             337.37\n",
       "9      40%                31.0                2.0            465.412\n",
       "10     50%                50.0                3.0            648.075\n",
       "11     60%                71.0                4.0            909.134\n",
       "12     70%               108.0                5.0           1311.979\n",
       "13     80%               178.0                7.0           2002.092\n",
       "14     90%               263.0               11.0             3505.6\n",
       "15    100%               373.0              248.0          279489.02"
      ]
     },
     "execution_count": 24,
     "metadata": {},
     "output_type": "execute_result"
    }
   ],
   "source": [
    "cols = ['Recency','Frequency','Monetary']\n",
    "describe_pd(rfm,cols,1)"
   ]
  },
  {
   "cell_type": "code",
   "execution_count": 25,
   "id": "57efc0d5",
   "metadata": {},
   "outputs": [
    {
     "name": "stdout",
     "output_type": "stream",
     "text": [
      "+-------+------------------+------------------+-----------------+-----------------+\n",
      "|summary|        CustomerID|           Recency|        Frequency|         Monetary|\n",
      "+-------+------------------+------------------+-----------------+-----------------+\n",
      "|  count|              4372|              4372|             4372|             4372|\n",
      "|   mean|15299.677721866423| 91.58119853613907| 5.07548032936871|1898.459700365968|\n",
      "| stddev|1722.3907054276901|100.77213931384843|9.338754163574727|8219.345141139713|\n",
      "|    min|           12346.0|                 0|                1|         -4287.63|\n",
      "|    25%|           13812.0|                16|                1|            293.1|\n",
      "|    50%|           15300.0|                50|                3|           647.74|\n",
      "|    75%|           16778.0|               143|                5|          1611.59|\n",
      "|    max|           18287.0|               373|              248|        279489.02|\n",
      "+-------+------------------+------------------+-----------------+-----------------+\n",
      "\n"
     ]
    }
   ],
   "source": [
    "rfm.summary().show()"
   ]
  },
  {
   "cell_type": "code",
   "execution_count": 26,
   "id": "7f9b23ad",
   "metadata": {},
   "outputs": [],
   "source": [
    "def RScore(x):\n",
    "    if  x <= 21:\n",
    "        return 'A'\n",
    "    elif x<= 71:\n",
    "        return 'B'\n",
    "    else:\n",
    "        return 'C'\n",
    "\n",
    "def FScore(x):\n",
    "    if  x <= 1:\n",
    "        return 'C'\n",
    "    elif x <= 4:\n",
    "        return 'B'\n",
    "    else:\n",
    "        return 'A'\n",
    "\n",
    "def MScore(x):\n",
    "    if  x <= 337:\n",
    "        return'C'\n",
    "    elif x <= 909:\n",
    "        return 'B'\n",
    "    else:\n",
    "        return 'A'\n",
    "\n",
    "from pyspark.sql.functions import udf\n",
    "from pyspark.sql.types import StringType, DoubleType\n",
    "\n",
    "R_udf = udf(lambda x: RScore(x), StringType())\n",
    "F_udf = udf(lambda x: FScore(x), StringType())\n",
    "M_udf = udf(lambda x: MScore(x), StringType())"
   ]
  },
  {
   "cell_type": "code",
   "execution_count": 27,
   "id": "6ee85314",
   "metadata": {},
   "outputs": [],
   "source": [
    "rfm_seg = rfm.withColumn(\"r_seg\", R_udf(\"Recency\"))"
   ]
  },
  {
   "cell_type": "code",
   "execution_count": 28,
   "id": "9d1d0272",
   "metadata": {},
   "outputs": [],
   "source": [
    "rfm_seg = rfm_seg.withColumn(\"f_seg\", F_udf(\"Frequency\"))"
   ]
  },
  {
   "cell_type": "code",
   "execution_count": 29,
   "id": "b351c5cb",
   "metadata": {},
   "outputs": [],
   "source": [
    "rfm_seg = rfm_seg.withColumn(\"m_seg\", M_udf(\"Monetary\"))"
   ]
  },
  {
   "cell_type": "code",
   "execution_count": 30,
   "id": "43d07d3e",
   "metadata": {},
   "outputs": [
    {
     "name": "stdout",
     "output_type": "stream",
     "text": [
      "+----------+-------+---------+--------+-----+-----+-----+\n",
      "|CustomerID|Recency|Frequency|Monetary|r_seg|f_seg|m_seg|\n",
      "+----------+-------+---------+--------+-----+-----+-----+\n",
      "|   13094.0|     21|       16| 1708.86|    A|    A|    A|\n",
      "|   17884.0|      3|        4|  717.45|    A|    B|    B|\n",
      "|   16561.0|      5|        2|  511.12|    A|    B|    B|\n",
      "|   13973.0|    287|        1|   264.7|    C|    C|    C|\n",
      "|   14285.0|     21|        4| 1910.01|    A|    B|    A|\n",
      "+----------+-------+---------+--------+-----+-----+-----+\n",
      "only showing top 5 rows\n",
      "\n"
     ]
    }
   ],
   "source": [
    "rfm_seg.show(5)"
   ]
  },
  {
   "cell_type": "code",
   "execution_count": 31,
   "id": "a00d92e7",
   "metadata": {},
   "outputs": [],
   "source": [
    "rfm_seg = rfm_seg.withColumn('RFMScore',\n",
    "                             F.concat(F.col('r_seg'),F.col('f_seg'), F.col('m_seg')))"
   ]
  },
  {
   "cell_type": "code",
   "execution_count": 32,
   "id": "930991f1",
   "metadata": {},
   "outputs": [
    {
     "name": "stdout",
     "output_type": "stream",
     "text": [
      "+----------+-------+---------+--------+-----+-----+-----+--------+\n",
      "|CustomerID|Recency|Frequency|Monetary|r_seg|f_seg|m_seg|RFMScore|\n",
      "+----------+-------+---------+--------+-----+-----+-----+--------+\n",
      "|   13956.0|      5|        5| 1026.42|    A|    A|    A|     AAA|\n",
      "|   13094.0|     21|       16| 1708.86|    A|    A|    A|     AAA|\n",
      "|   17659.0|      3|       14| 2954.75|    A|    A|    A|     AAA|\n",
      "|   15311.0|      0|      118|59419.34|    A|    A|    A|     AAA|\n",
      "|   16353.0|      3|       23| 6675.71|    A|    A|    A|     AAA|\n",
      "+----------+-------+---------+--------+-----+-----+-----+--------+\n",
      "only showing top 5 rows\n",
      "\n"
     ]
    }
   ],
   "source": [
    "rfm_seg.sort(F.col('RFMScore')).show(5)"
   ]
  },
  {
   "cell_type": "code",
   "execution_count": 33,
   "id": "9417dda6",
   "metadata": {},
   "outputs": [],
   "source": [
    "rfm_seg_filtered = rfm_seg.filter(\"RFMScore = 'AAA'\")"
   ]
  },
  {
   "cell_type": "code",
   "execution_count": 34,
   "id": "915e5dee",
   "metadata": {},
   "outputs": [
    {
     "data": {
      "text/plain": [
       "724"
      ]
     },
     "execution_count": 34,
     "metadata": {},
     "output_type": "execute_result"
    }
   ],
   "source": [
    "rfm_seg_filtered.count()"
   ]
  },
  {
   "cell_type": "code",
   "execution_count": 35,
   "id": "f98c05c9",
   "metadata": {},
   "outputs": [],
   "source": [
    "rfm_final=rfm_seg_filtered.toPandas()"
   ]
  },
  {
   "cell_type": "code",
   "execution_count": 36,
   "id": "c2e22a35",
   "metadata": {},
   "outputs": [],
   "source": [
    "rfm_final.to_csv (\"K:/DE_Projects/DE_T4.7/data/rfm_final.csv\",  \n",
    "                  index = True, \n",
    "                  header=True,\n",
    "                  encoding='utf-8-sig')"
   ]
  },
  {
   "cell_type": "code",
   "execution_count": null,
   "id": "76f18df6",
   "metadata": {},
   "outputs": [],
   "source": []
  }
 ],
 "metadata": {
  "kernelspec": {
   "display_name": "Python 3 (ipykernel)",
   "language": "python",
   "name": "python3"
  },
  "language_info": {
   "codemirror_mode": {
    "name": "ipython",
    "version": 3
   },
   "file_extension": ".py",
   "mimetype": "text/x-python",
   "name": "python",
   "nbconvert_exporter": "python",
   "pygments_lexer": "ipython3",
   "version": "3.9.7"
  }
 },
 "nbformat": 4,
 "nbformat_minor": 5
}
